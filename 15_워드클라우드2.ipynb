{
 "cells": [
  {
   "cell_type": "code",
   "execution_count": 1,
   "id": "2d2d0d39",
   "metadata": {},
   "outputs": [],
   "source": [
    "import requests\n",
    "from bs4 import BeautifulSoup"
   ]
  },
  {
   "cell_type": "code",
   "execution_count": 2,
   "id": "3987f033",
   "metadata": {},
   "outputs": [],
   "source": [
    "url = 'https://n.news.naver.com/mnews/article/001/0015633995'\n",
    "response = requests.get(url)"
   ]
  },
  {
   "cell_type": "code",
   "execution_count": 3,
   "id": "cd123e96",
   "metadata": {},
   "outputs": [],
   "source": [
    "soup = BeautifulSoup(response.content, \"html.parser\")"
   ]
  },
  {
   "cell_type": "code",
   "execution_count": 4,
   "id": "d003f932",
   "metadata": {},
   "outputs": [],
   "source": [
    "data = soup.select('#dic_area')[0]\n",
    "text = data.text"
   ]
  },
  {
   "cell_type": "code",
   "execution_count": null,
   "id": "0a1ff545",
   "metadata": {},
   "outputs": [
    {
     "ename": "SyntaxError",
     "evalue": "invalid syntax (3298704651.py, line 2)",
     "output_type": "error",
     "traceback": [
      "  \u001b[36mCell\u001b[39m\u001b[36m \u001b[39m\u001b[32mIn[5]\u001b[39m\u001b[32m, line 2\u001b[39m\n\u001b[31m    \u001b[39m\u001b[31mpip install konlpy\u001b[39m\n        ^\n\u001b[31mSyntaxError\u001b[39m\u001b[31m:\u001b[39m invalid syntax\n"
     ]
    }
   ],
   "source": [
    "# 한국어 자연어 처리 라이브러리\n",
    "!pip install konlpy"
   ]
  },
  {
   "cell_type": "code",
   "execution_count": null,
   "id": "229931e2",
   "metadata": {},
   "outputs": [],
   "source": [
    "from konlpy.tag import Okt\n",
    "from collections import Counter\n",
    "\n",
    "okt = Okt()\n",
    "str = \"한글 자연어 처리는 재미가 있습니다.\"\n",
    "# 텍스트에서 명사 추출\n",
    "nouns = okt.nouns(str)\n",
    "tokens = okt.nouns(text)\n",
    "print(tokens)"
   ]
  },
  {
   "cell_type": "code",
   "execution_count": null,
   "id": "2223e71c",
   "metadata": {},
   "outputs": [],
   "source": [
    "word_count = Counter(tokens)\n",
    "\n",
    "print(word_count)"
   ]
  },
  {
   "cell_type": "code",
   "execution_count": null,
   "id": "2ac99f76",
   "metadata": {},
   "outputs": [],
   "source": [
    "nouns"
   ]
  },
  {
   "cell_type": "code",
   "execution_count": null,
   "id": "75a5208c",
   "metadata": {},
   "outputs": [],
   "source": [
    "# 텍스트를 형태소로 (단순)분리\n",
    "morphs = okt.morphs(str)\n",
    "morphs"
   ]
  },
  {
   "cell_type": "code",
   "execution_count": null,
   "id": "2e9b6fab",
   "metadata": {},
   "outputs": [],
   "source": [
    "# 각 형태소와 그에 해당하는 품사를 태깅# 각 형태소와 그에 해당하는 품사를 태깅\n",
    "pos = okt.pos(str)\n",
    "pos\n",
    "\n",
    "# Noun : 명사\n",
    "# Josa : 조사\n",
    "# Adjective : 형용사\n",
    "# Punctuation : 구두점\n",
    "# Adverb : 부사\n",
    "# Verb : 동사"
   ]
  },
  {
   "cell_type": "code",
   "execution_count": null,
   "id": "2ae72a9e",
   "metadata": {},
   "outputs": [],
   "source": [
    "# 텍스트에서 어구(두 단어 이상 결합 된 구문) 추출\n",
    "phr = okt.phrases(str)\n",
    "phr"
   ]
  },
  {
   "cell_type": "code",
   "execution_count": null,
   "id": "7744cd85",
   "metadata": {},
   "outputs": [],
   "source": [
    "tokens = okt.nouns(text)\n",
    "tokens"
   ]
  },
  {
   "cell_type": "code",
   "execution_count": null,
   "id": "d11b212a",
   "metadata": {},
   "outputs": [],
   "source": [
    "word_count = Counter(tokens)\n",
    "word_count"
   ]
  },
  {
   "cell_type": "code",
   "execution_count": null,
   "id": "d0935366",
   "metadata": {},
   "outputs": [],
   "source": [
    "word_count.most_common(10)"
   ]
  },
  {
   "cell_type": "code",
   "execution_count": null,
   "id": "ef6d4284",
   "metadata": {},
   "outputs": [],
   "source": [
    "# 워드클라우드 라이브러리 설치\n",
    "!pip install wordcloud"
   ]
  },
  {
   "cell_type": "code",
   "execution_count": null,
   "id": "0940f523",
   "metadata": {},
   "outputs": [],
   "source": [
    "# 폰트 설치\n",
    "!apt-get install fonts-nanum -qq"
   ]
  },
  {
   "cell_type": "code",
   "execution_count": null,
   "id": "22cde94c",
   "metadata": {},
   "outputs": [],
   "source": [
    "from wordcloud import WordCloud\n",
    "wordcloud = WordCloud(\n",
    "    font_path = '/url/share/fonts/truetype/NanumGothic.ttf',\n",
    "    background_color='white'\n",
    ").generate_from_frequencies(word_count)"
   ]
  },
  {
   "cell_type": "code",
   "execution_count": null,
   "id": "f78bad50",
   "metadata": {},
   "outputs": [],
   "source": [
    "import matplotlib.pyplot as plt\n",
    "\n",
    "plt.figure()\n",
    "plt.imshow(wordcloud)\n",
    "plt.axis('off')\n",
    "plt.show()"
   ]
  }
 ],
 "metadata": {
  "kernelspec": {
   "display_name": "venv (3.11.9)",
   "language": "python",
   "name": "python3"
  },
  "language_info": {
   "codemirror_mode": {
    "name": "ipython",
    "version": 3
   },
   "file_extension": ".py",
   "mimetype": "text/x-python",
   "name": "python",
   "nbconvert_exporter": "python",
   "pygments_lexer": "ipython3",
   "version": "3.11.9"
  }
 },
 "nbformat": 4,
 "nbformat_minor": 5
}
