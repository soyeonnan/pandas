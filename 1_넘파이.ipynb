{
 "cells": [
  {
   "cell_type": "markdown",
   "id": "2aa39956",
   "metadata": {},
   "source": [
    "#제목1\n",
    "##재목2\n",
    "###제목3"
   ]
  },
  {
   "cell_type": "code",
   "execution_count": 9,
   "id": "aef62255",
   "metadata": {},
   "outputs": [
    {
     "name": "stdout",
     "output_type": "stream",
     "text": [
      "[0 1 2 3 4 5]\n",
      "<class 'numpy.ndarray'>\n"
     ]
    }
   ],
   "source": [
    "import numpy as np\n",
    "\n",
    "data = [0,1,2,3,4,5]\n",
    "a1 = np.array(data) # 리스트를 넘파이 배열로 생성\n",
    "\n",
    "print(a1)\n",
    "print( type(a1) )"
   ]
  },
  {
   "cell_type": "code",
   "execution_count": null,
   "id": "2d21efff",
   "metadata": {},
   "outputs": [
    {
     "name": "stdout",
     "output_type": "stream",
     "text": [
      "[0.   1.   2.   3.   0.5  3.14]\n"
     ]
    }
   ],
   "source": [
    "data2 = [0,1,2,3,0.5,3.14]\n",
    "a2 = np.array(data2)\n",
    "# 정수와 실수가 섞여 있으면 전부 실수로 변환\n",
    "print( a2 )"
   ]
  },
  {
   "cell_type": "code",
   "execution_count": 11,
   "id": "3d82b0a7",
   "metadata": {},
   "outputs": [
    {
     "name": "stdout",
     "output_type": "stream",
     "text": [
      "(3,)\n",
      "float64\n"
     ]
    }
   ],
   "source": [
    "x = np.array([0.1,0.2,0.3])\n",
    "print(x.shape) # 배열 구조\n",
    "print(x.dtype) # 배열 요소들의 타입"
   ]
  },
  {
   "cell_type": "code",
   "execution_count": 12,
   "id": "32fe9736",
   "metadata": {},
   "outputs": [
    {
     "name": "stdout",
     "output_type": "stream",
     "text": [
      "(2, 3)\n",
      "int64\n"
     ]
    }
   ],
   "source": [
    "y = np.array( ([1,2,3],[4,5,6]) )\n",
    "print(y.shape) # 배열 구조\n",
    "print(y.dtype)"
   ]
  },
  {
   "cell_type": "code",
   "execution_count": 14,
   "id": "a03b15f5",
   "metadata": {},
   "outputs": [
    {
     "name": "stdout",
     "output_type": "stream",
     "text": [
      "[1 2 3 4 5 6 7 8 9]\n",
      "<class 'numpy.ndarray'>\n"
     ]
    }
   ],
   "source": [
    "a3 = np.arange(1,10)\n",
    "print(a3)\n",
    "print(  type(a3) )"
   ]
  },
  {
   "cell_type": "code",
   "execution_count": 15,
   "id": "e643b26b",
   "metadata": {},
   "outputs": [
    {
     "name": "stdout",
     "output_type": "stream",
     "text": [
      "[1 3 5 7 9]\n"
     ]
    }
   ],
   "source": [
    "a4 = np.arange(1,10,2)\n",
    "print(a4)"
   ]
  },
  {
   "cell_type": "code",
   "execution_count": 18,
   "id": "9a8a0944",
   "metadata": {},
   "outputs": [
    {
     "name": "stdout",
     "output_type": "stream",
     "text": [
      "[[ 0  1  2]\n",
      " [ 3  4  5]\n",
      " [ 6  7  8]\n",
      " [ 9 10 11]]\n",
      "(4, 3)\n"
     ]
    }
   ],
   "source": [
    "a5 = np.arange(12).reshape(4,3)\n",
    "\n",
    "print(a5)\n",
    "print( a5.shape )"
   ]
  },
  {
   "cell_type": "code",
   "execution_count": 19,
   "id": "c7e83f6f",
   "metadata": {},
   "outputs": [
    {
     "name": "stdout",
     "output_type": "stream",
     "text": [
      "[ 1.    3.25  5.5   7.75 10.  ]\n"
     ]
    }
   ],
   "source": [
    "# 개수 지정해서 배열 만들기\n",
    "a6 = np.linspace(1,10,5)\n",
    "print(a6)"
   ]
  },
  {
   "cell_type": "code",
   "execution_count": null,
   "id": "308b9878",
   "metadata": {},
   "outputs": [
    {
     "name": "stdout",
     "output_type": "stream",
     "text": [
      "[0.         0.16534698 0.33069396 0.49604095 0.66138793 0.82673491\n",
      " 0.99208189 1.15742887 1.32277585 1.48812284 1.65346982 1.8188168\n",
      " 1.98416378 2.14951076 2.31485774 2.48020473 2.64555171 2.81089869\n",
      " 2.97624567 3.14159265]\n"
     ]
    }
   ],
   "source": [
    "a7 = np.linspace(0, np.pi, 20) # 0부터 3.14까지 20개 만들기\n",
    "print(a7)"
   ]
  },
  {
   "cell_type": "code",
   "execution_count": null,
   "id": "4dae0f28",
   "metadata": {},
   "outputs": [
    {
     "name": "stdout",
     "output_type": "stream",
     "text": [
      "[0. 0. 0. 0. 0. 0. 0. 0. 0. 0.]\n"
     ]
    }
   ],
   "source": [
    "a8 = np.zeros(10) # 0으로 10칸 채워라\n",
    "print(a8)"
   ]
  },
  {
   "cell_type": "code",
   "execution_count": null,
   "id": "10362bd0",
   "metadata": {},
   "outputs": [
    {
     "name": "stdout",
     "output_type": "stream",
     "text": [
      "[[0. 0. 0. 0.]\n",
      " [0. 0. 0. 0.]\n",
      " [0. 0. 0. 0.]]\n"
     ]
    }
   ],
   "source": [
    "a9 = np.zeros((3,4)) # 2차원 배열 생성(4칸짜리 3묶음)\n",
    "print(a9)"
   ]
  },
  {
   "cell_type": "code",
   "execution_count": null,
   "id": "a0783a6c",
   "metadata": {},
   "outputs": [
    {
     "name": "stdout",
     "output_type": "stream",
     "text": [
      "[1. 1. 1. 1. 1.]\n"
     ]
    }
   ],
   "source": [
    "a10 = np.ones(5) # 1로 5칸 만들어라\n",
    "print(a10)"
   ]
  },
  {
   "cell_type": "code",
   "execution_count": null,
   "id": "fbc50fa5",
   "metadata": {},
   "outputs": [
    {
     "name": "stdout",
     "output_type": "stream",
     "text": [
      "[[1. 1.]\n",
      " [1. 1.]\n",
      " [1. 1.]]\n"
     ]
    }
   ],
   "source": [
    "a11 = np.ones((3,2)) \n",
    "print(a11)"
   ]
  },
  {
   "cell_type": "code",
   "execution_count": null,
   "id": "090223f1",
   "metadata": {},
   "outputs": [
    {
     "name": "stdout",
     "output_type": "stream",
     "text": [
      "[[1. 0. 0. 0. 0.]\n",
      " [0. 1. 0. 0. 0.]\n",
      " [0. 0. 1. 0. 0.]\n",
      " [0. 0. 0. 1. 0.]\n",
      " [0. 0. 0. 0. 1.]]\n"
     ]
    }
   ],
   "source": [
    "a12 = np.eye(5) #5*5짜리 배열이 생성되고 대각선으로 1이 만들어짐\n",
    "print(a12)"
   ]
  },
  {
   "cell_type": "code",
   "execution_count": null,
   "id": "f0883587",
   "metadata": {},
   "outputs": [
    {
     "name": "stdout",
     "output_type": "stream",
     "text": [
      "['1.5' '3.14' '3']\n",
      "<U4\n"
     ]
    }
   ],
   "source": [
    "a13 = np.array(['1.5','3.14','3']) # 문자열 생성\n",
    "print(a13)\n",
    "print(a13.dtype) #<U4 는 U -> 유니코드/4->최대4개"
   ]
  },
  {
   "cell_type": "code",
   "execution_count": null,
   "id": "27cc8350",
   "metadata": {},
   "outputs": [
    {
     "name": "stdout",
     "output_type": "stream",
     "text": [
      "[1.5  3.14 3.  ]\n",
      "float64\n"
     ]
    }
   ],
   "source": [
    "num_a13 = a13.astype(float) # 자료형 바꿈\n",
    "print(num_a13)\n",
    "print(num_a13.dtype)"
   ]
  },
  {
   "cell_type": "code",
   "execution_count": null,
   "id": "a851df58",
   "metadata": {},
   "outputs": [
    {
     "name": "stdout",
     "output_type": "stream",
     "text": [
      "[1 2 3 4]\n"
     ]
    }
   ],
   "source": [
    "a14 = np.array(['1','2','3','4']) \n",
    "int_a14 = a14.astype(int) # a13으로 하면 정수만 들어있는게 아니고 실수도 포함되어 있어서 오류뜨는게 정상임\n",
    "print(int_a14)"
   ]
  },
  {
   "cell_type": "code",
   "execution_count": null,
   "id": "088de150",
   "metadata": {},
   "outputs": [
    {
     "name": "stdout",
     "output_type": "stream",
     "text": [
      "[[0.34861499 0.70666357 0.24368707]\n",
      " [0.97691029 0.09322839 0.81203842]]\n"
     ]
    }
   ],
   "source": [
    "a15 = np.random.rand(2,3) # 난수 생성 (기본적으로 난수는 0~1미만, 즉 0.9999까지 생성)\n",
    "print(a15)"
   ]
  },
  {
   "cell_type": "code",
   "execution_count": 39,
   "id": "f09b2f31",
   "metadata": {},
   "outputs": [
    {
     "name": "stdout",
     "output_type": "stream",
     "text": [
      "[[[0.06531974 0.01868778 0.54071779 0.48724328]\n",
      "  [0.19111327 0.26594151 0.20391399 0.17901243]\n",
      "  [0.75699033 0.0933838  0.32331114 0.69229432]]\n",
      "\n",
      " [[0.90075203 0.46221443 0.75855972 0.99899715]\n",
      "  [0.87984527 0.17809566 0.94604027 0.38875538]\n",
      "  [0.04019831 0.59791076 0.08083673 0.55941839]]]\n"
     ]
    }
   ],
   "source": [
    "a16 = np.random.rand(2,3,4)\n",
    "print(a16)"
   ]
  },
  {
   "cell_type": "code",
   "execution_count": 41,
   "id": "92ee81b6",
   "metadata": {},
   "outputs": [
    {
     "name": "stdout",
     "output_type": "stream",
     "text": [
      "[[8 3 5 8]\n",
      " [8 4 1 4]\n",
      " [1 8 3 4]]\n"
     ]
    }
   ],
   "source": [
    "a17 = np.random.randint(10, size=(3,4))\n",
    "print(a17)"
   ]
  },
  {
   "cell_type": "code",
   "execution_count": 42,
   "id": "e0993928",
   "metadata": {},
   "outputs": [
    {
     "name": "stdout",
     "output_type": "stream",
     "text": [
      "[1, 2, 3, 4, 5, 6]\n"
     ]
    }
   ],
   "source": [
    "list1 = [1,2,3]\n",
    "list2 = [4,5,6]\n",
    "list3 = list1 + list2\n",
    "print(list3)"
   ]
  },
  {
   "cell_type": "code",
   "execution_count": 48,
   "id": "ccae7eef",
   "metadata": {},
   "outputs": [
    {
     "name": "stdout",
     "output_type": "stream",
     "text": [
      "[5 7 9]\n"
     ]
    }
   ],
   "source": [
    "arr1 = np.array([1,2,3])\n",
    "arr2 = np.array([4,5,6])\n",
    "result = arr1 + arr2\n",
    "print(result)"
   ]
  },
  {
   "cell_type": "code",
   "execution_count": 49,
   "id": "3cae8719",
   "metadata": {},
   "outputs": [
    {
     "name": "stdout",
     "output_type": "stream",
     "text": [
      "[ 4 10 18]\n"
     ]
    }
   ],
   "source": [
    "result = arr1*arr2\n",
    "print(result)"
   ]
  },
  {
   "cell_type": "code",
   "execution_count": null,
   "id": "12e28fd6",
   "metadata": {},
   "outputs": [
    {
     "name": "stdout",
     "output_type": "stream",
     "text": [
      "[1, 2, 3, 1, 2, 3, 1, 2, 3]\n"
     ]
    }
   ],
   "source": [
    "result = list1 * 3 # 이건 문자열처럼 뒤에 붙어서 나옴\n",
    "print(result)"
   ]
  },
  {
   "cell_type": "code",
   "execution_count": null,
   "id": "2251060a",
   "metadata": {},
   "outputs": [
    {
     "name": "stdout",
     "output_type": "stream",
     "text": [
      "[3 6 9]\n"
     ]
    }
   ],
   "source": [
    "result = arr1 *3 \n",
    "print(result)"
   ]
  },
  {
   "cell_type": "code",
   "execution_count": null,
   "id": "c43ddb3c",
   "metadata": {},
   "outputs": [
    {
     "name": "stdout",
     "output_type": "stream",
     "text": [
      "[1 2 3]\n",
      "[False  True  True]\n"
     ]
    }
   ],
   "source": [
    "result = (arr1 >= 2) # 논리 연산도 가능 \n",
    "print(arr1)\n",
    "print(result)"
   ]
  },
  {
   "cell_type": "code",
   "execution_count": 54,
   "id": "27afb6a5",
   "metadata": {},
   "outputs": [
    {
     "name": "stdout",
     "output_type": "stream",
     "text": [
      "[1, 2, 3]\n"
     ]
    }
   ],
   "source": [
    "sum( list1 )\n",
    "print(list1)"
   ]
  },
  {
   "cell_type": "code",
   "execution_count": 56,
   "id": "0a5b3a3b",
   "metadata": {},
   "outputs": [
    {
     "name": "stdout",
     "output_type": "stream",
     "text": [
      "[0 1 2 3 4]\n"
     ]
    }
   ],
   "source": [
    "arr = np.arange(5)\n",
    "print(arr)"
   ]
  },
  {
   "cell_type": "code",
   "execution_count": 57,
   "id": "a8c77b5e",
   "metadata": {},
   "outputs": [
    {
     "name": "stdout",
     "output_type": "stream",
     "text": [
      "10\n",
      "0\n",
      "4\n",
      "2.0\n",
      "1.4142135623730951\n",
      "2.0\n"
     ]
    }
   ],
   "source": [
    "print(arr.sum()) # 합계\n",
    "print(arr.min()) # 최소\n",
    "print(arr.max()) # 최대\n",
    "print(arr.mean()) # 평균\n",
    "print(arr.std()) # 표준편차\n",
    "print(arr.var()) # 분산"
   ]
  },
  {
   "cell_type": "code",
   "execution_count": 59,
   "id": "258e58bc",
   "metadata": {},
   "outputs": [
    {
     "name": "stdout",
     "output_type": "stream",
     "text": [
      "30\n",
      "50\n"
     ]
    }
   ],
   "source": [
    "# 인덱싱\n",
    "arr = np.array([10,20,30,40,50])\n",
    "print(arr[2])\n",
    "print(arr[-1])"
   ]
  },
  {
   "cell_type": "code",
   "execution_count": 61,
   "id": "4e1930b5",
   "metadata": {},
   "outputs": [
    {
     "name": "stdout",
     "output_type": "stream",
     "text": [
      "[20 30]\n",
      "[10 20]\n",
      "[40 50]\n"
     ]
    }
   ],
   "source": [
    "print( arr[1:3] )\n",
    "print(arr[:2])\n",
    "print(arr[3:])"
   ]
  },
  {
   "cell_type": "code",
   "execution_count": 65,
   "id": "921db730",
   "metadata": {},
   "outputs": [
    {
     "name": "stdout",
     "output_type": "stream",
     "text": [
      "[[ 6  8]\n",
      " [11 13]]\n",
      "[[ 6  8]\n",
      " [11 13]]\n"
     ]
    }
   ],
   "source": [
    "# 행렬 연산\n",
    "m1 = np.array([[1,2],[4,5]])\n",
    "m2 = np.array([[5,6],[7,8]])\n",
    "result = m1+m2\n",
    "print(result)\n",
    "\n",
    "# 행렬 합\n",
    "result = np.add(m1,m2)\n",
    "print(result)"
   ]
  },
  {
   "cell_type": "code",
   "execution_count": null,
   "id": "028c922f",
   "metadata": {},
   "outputs": [
    {
     "name": "stdout",
     "output_type": "stream",
     "text": [
      "[[-4 -4]\n",
      " [-3 -3]]\n"
     ]
    }
   ],
   "source": [
    "result = np.subtract(m1,m2) # 빼기\n",
    "print(result)"
   ]
  },
  {
   "cell_type": "code",
   "execution_count": null,
   "id": "38eb209b",
   "metadata": {},
   "outputs": [
    {
     "name": "stdout",
     "output_type": "stream",
     "text": [
      "[[ 5 12]\n",
      " [28 40]]\n"
     ]
    }
   ],
   "source": [
    "result = np.multiply(m1,m2) # 더하기이긴한데 자세히 한번 더 봐야 됨\n",
    "print(result)"
   ]
  },
  {
   "cell_type": "code",
   "execution_count": null,
   "id": "2f6c0334",
   "metadata": {},
   "outputs": [
    {
     "name": "stdout",
     "output_type": "stream",
     "text": [
      "[[19 22]\n",
      " [55 64]]\n"
     ]
    }
   ],
   "source": [
    "result = np.dot(m1,m2) # 행렬 곱하기?\n",
    "print(result)"
   ]
  },
  {
   "cell_type": "code",
   "execution_count": null,
   "id": "f10c0c48",
   "metadata": {},
   "outputs": [
    {
     "name": "stdout",
     "output_type": "stream",
     "text": [
      "[1 3 5 7 9]\n",
      "[3 4 1 2 0]\n",
      "3\n",
      "0\n"
     ]
    }
   ],
   "source": [
    "arr = np.array([9,5,7,1,3])\n",
    "\n",
    "print(np.sort(arr)) # 정렬\n",
    "print(np.argsort(arr)) #정렬 한 값의 인덱스\n",
    "\n",
    "print(np.argmin(arr)) # 최소값의 인덱스 \n",
    "print(np.argmax(arr)) # 최대값의 인덱스"
   ]
  },
  {
   "cell_type": "code",
   "execution_count": null,
   "id": "68f9f66f",
   "metadata": {},
   "outputs": [
    {
     "name": "stdout",
     "output_type": "stream",
     "text": [
      "(3,)\n",
      "(3, 1)\n",
      "[[5 6 7]\n",
      " [6 7 8]\n",
      " [7 8 9]]\n",
      "(3, 3)\n"
     ]
    }
   ],
   "source": [
    "# 브로드캐스팅\n",
    "# 배열 간 크기가 다른 경우에도 연산을 해주는 기능\n",
    "# 각 배열의 shape를 비교\n",
    "# 뒤에서 차원 비교를 수행 -> 차원이 같거나 하나가 1이면 호환\n",
    "a = np.array([1,2,3]) # 1차원\n",
    "b = np.array([[4],[5],[6]]) # 2차원\n",
    "\n",
    "# 연산 한번 더 봐야 할 듯\n",
    "print(a.shape)\n",
    "print(b.shape) \n",
    "\n",
    "c = a+b\n",
    "print(c)\n",
    "print(c.shape)"
   ]
  },
  {
   "cell_type": "code",
   "execution_count": null,
   "id": "f6919cf8",
   "metadata": {},
   "outputs": [
    {
     "name": "stdout",
     "output_type": "stream",
     "text": [
      "2.5\n"
     ]
    }
   ],
   "source": []
  },
  {
   "cell_type": "code",
   "execution_count": null,
   "id": "bf91dba3",
   "metadata": {},
   "outputs": [],
   "source": []
  }
 ],
 "metadata": {
  "kernelspec": {
   "display_name": "venv (3.11.9)",
   "language": "python",
   "name": "python3"
  },
  "language_info": {
   "codemirror_mode": {
    "name": "ipython",
    "version": 3
   },
   "file_extension": ".py",
   "mimetype": "text/x-python",
   "name": "python",
   "nbconvert_exporter": "python",
   "pygments_lexer": "ipython3",
   "version": "3.11.9"
  }
 },
 "nbformat": 4,
 "nbformat_minor": 5
}
