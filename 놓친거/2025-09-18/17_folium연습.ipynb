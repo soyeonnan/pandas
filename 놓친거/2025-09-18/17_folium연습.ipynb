{
 "cells": [
  {
   "cell_type": "code",
   "execution_count": null,
   "id": "fa468aa8",
   "metadata": {},
   "outputs": [],
   "source": [
    "import folium\n",
    "\n",
    "m = folium.Map(location=[37.566, 126.9780], zoom_start=12)\n",
    "\n",
    "folium.Marker([37.566, 126.9780], popup=\"서울시청\").add_to(m)\n",
    "folium.Marker(\n",
    "  [37.5511, 126.9882], popup=\"남산타워\",\n",
    "  icon=folium.Icon(icon='cloud')\n",
    ").add_to(m)\n",
    "\n"
   ]
  },
  {
   "cell_type": "code",
   "execution_count": 10,
   "id": "989b108c",
   "metadata": {},
   "outputs": [],
   "source": [
    "from folium.plugins import MarkerCluster\n",
    "\n",
    "m = folium.Map(location=[37.566, 126.9780], zoom_start=12)\n",
    "\n",
    "marker_cluster = MarkerCluster().add_to(m)\n",
    "\n",
    "locations = [\n",
    "    [37.5665, 126.9780],  # 서울시청\n",
    "    [37.5511694, 126.9882266],  # 남산타워\n",
    "    [37.579617, 126.977041],  # 경복궁\n",
    "    [37.533333, 127.027609],  # 강남역\n",
    "    [37.570028, 126.983685]   # 삼청동\n",
    "]\n",
    "\n",
    "for loc in locations:\n",
    "  folium.Marker(loc, popup=\"서울 주요 위치\").add_to(marker_cluster)\n",
    "\n",
    "m.save('클러스터.html')\n"
   ]
  },
  {
   "cell_type": "code",
   "execution_count": 16,
   "id": "67a4d226",
   "metadata": {},
   "outputs": [],
   "source": [
    "import requests\n",
    "\n",
    "m = folium.Map(location=[37.566, 126.9780], zoom_start=12)\n",
    "\n",
    "geojson_url = 'https://raw.githubusercontent.com/southkorea/southkorea-maps/master/kostat/2013/json/skorea_municipalities_geo_simple.json'\n",
    "data = requests.get(geojson_url).json()\n",
    "\n",
    "folium.GeoJson(data, name=\"서울 구 경계\").add_to(m)\n",
    "\n",
    "m.save('test.html')"
   ]
  }
 ],
 "metadata": {
  "kernelspec": {
   "display_name": "venv",
   "language": "python",
   "name": "python3"
  },
  "language_info": {
   "codemirror_mode": {
    "name": "ipython",
    "version": 3
   },
   "file_extension": ".py",
   "mimetype": "text/x-python",
   "name": "python",
   "nbconvert_exporter": "python",
   "pygments_lexer": "ipython3",
   "version": "3.11.9"
  }
 },
 "nbformat": 4,
 "nbformat_minor": 5
}
