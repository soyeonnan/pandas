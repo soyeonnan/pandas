{
 "cells": [
  {
   "cell_type": "code",
   "execution_count": 4,
   "id": "08b02fac",
   "metadata": {},
   "outputs": [],
   "source": [
    "import pandas as pd\n",
    "\n",
    "customers = pd.read_csv('data/customers.csv', parse_dates=['signup_date'])\n",
    "products = pd.read_csv('data/products.csv')\n",
    "orders = pd.read_csv('data/orders.csv', parse_dates=['order_date'])"
   ]
  },
  {
   "cell_type": "code",
   "execution_count": 10,
   "id": "a4e89eb9",
   "metadata": {},
   "outputs": [
    {
     "name": "stdout",
     "output_type": "stream",
     "text": [
      "=== orders 결측치 확인 ===\n",
      "order_id      0\n",
      "user_id       0\n",
      "order_date    0\n",
      "product_id    0\n",
      "qty           0\n",
      "unit_price    1\n",
      "region        2\n",
      "dtype: int64\n",
      "=== products 결측치 확인===\n",
      "product_id    0\n",
      "category      1\n",
      "brand         2\n",
      "dtype: int64\n",
      "=== customers 결측치 확인 ===\n",
      "user_id        0\n",
      "signup_date    0\n",
      "gender         2\n",
      "age_group      1\n",
      "region         2\n",
      "dtype: int64\n"
     ]
    }
   ],
   "source": [
    "# 결측치 확인\n",
    "print(\"=== orders 결측치 확인 ===\")\n",
    "print( orders.isna().sum() )\n",
    "print(\"=== products 결측치 확인===\")\n",
    "print( products.isna().sum() )\n",
    "print(\"=== customers 결측치 확인 ===\")\n",
    "print( customers.isna().sum() )"
   ]
  },
  {
   "cell_type": "code",
   "execution_count": 14,
   "id": "0b720911",
   "metadata": {},
   "outputs": [
    {
     "name": "stdout",
     "output_type": "stream",
     "text": [
      "중복등록된 주문 수 : 0\n"
     ]
    }
   ],
   "source": [
    "dup_orders = orders.duplicated().sum()\n",
    "print(f\"중복등록된 주문 수 : {dup_orders}\")"
   ]
  },
  {
   "cell_type": "code",
   "execution_count": 17,
   "id": "96677bb3",
   "metadata": {},
   "outputs": [
    {
     "name": "stdout",
     "output_type": "stream",
     "text": [
      "=== 총 정리 ===\n",
      "customer 수 : 150\n",
      "orders 수 : 2500\n",
      "products 수 : 80\n",
      "중복등록된 주문 수 : 0\n",
      "orders의 결측치 수 : 3\n"
     ]
    }
   ],
   "source": [
    "print(\"=== 총 정리 ===\")\n",
    "print(f\"customer 수 : {len(customers)}\")\n",
    "print(f\"orders 수 : {len(orders)}\")\n",
    "print(f\"products 수 : {len(products)}\")\n",
    "\n",
    "print(f\"중복등록된 주문 수 : {dup_orders}\")\n",
    "print(f\"orders의 결측치 수 : {orders.isna().sum().sum()}\")"
   ]
  },
  {
   "cell_type": "code",
   "execution_count": null,
   "id": "2371d880",
   "metadata": {},
   "outputs": [
    {
     "name": "stdout",
     "output_type": "stream",
     "text": [
      "=== 고객 데이터 결측치 ===\n",
      "user_id : 0.0%\n",
      "signup_date : 0.0%\n",
      "gender : 1.3%\n",
      "age_group : 0.7%\n",
      "region : 1.3%\n"
     ]
    }
   ],
   "source": [
    "# 결측치 처리\n",
    "print(\"=== 고객 데이터 결측치 ===\")\n",
    "missing_cus = customers.isna().sum()\n",
    "\n",
    "for col in missing_cus.index:\n",
    "  ratio = missing_cus[col] / len(customers) * 100\n",
    "  print(f\"{col} : {ratio:.1f}%\")"
   ]
  },
  {
   "cell_type": "code",
   "execution_count": 27,
   "id": "3f35b5b1",
   "metadata": {},
   "outputs": [
    {
     "name": "stdout",
     "output_type": "stream",
     "text": [
      "    order_id user_id order_date product_id  qty  unit_price region\n",
      "13   o000014    u061 2024-05-10      p0002    3         NaN  Seoul\n",
      "53   o000054    u034 2024-02-21      p0078    5     12000.0    NaN\n",
      "103  o000104    u124 2024-05-20      p0017    1     12000.0    NaN\n",
      "   product_id category brand\n",
      "13      p0014     tool   NaN\n",
      "33      p0034      NaN  Duro\n",
      "73      p0074     food   NaN\n",
      "    user_id signup_date gender age_group   region\n",
      "10     u011  2023-07-12    NaN       40s  Incheon\n",
      "11     u012  2023-12-23      F       NaN    Seoul\n",
      "12     u013  2023-09-26      M       10s      NaN\n",
      "48     u049  2023-09-05    NaN       10s  Gwangju\n",
      "143    u144  2023-05-30      M       30s      NaN\n"
     ]
    }
   ],
   "source": [
    "# 결측치가 들어있는 행들을 보고 싶음\n",
    "print( orders[ orders.isna().any(axis=1) ] )\n",
    "print( products[ products.isna().any(axis=1) ] )\n",
    "print( customers[ customers.isna().any(axis=1) ] )"
   ]
  },
  {
   "cell_type": "code",
   "execution_count": 41,
   "id": "852fccd6",
   "metadata": {},
   "outputs": [],
   "source": [
    "# 고객의 성별 결측치 처리\n",
    "gender_mode = customers['gender'].mode()[0]\n",
    "customers['gender'] = customers['gender'].fillna(gender_mode)"
   ]
  },
  {
   "cell_type": "code",
   "execution_count": 43,
   "id": "572edd6a",
   "metadata": {},
   "outputs": [],
   "source": [
    "# 고객의 나이대 결측치 처리, 지역도 처리\n",
    "age_group_mode = customers['age_group'].mode()[0]\n",
    "customers['age_group'] = customers['age_group'].fillna(age_group_mode)\n",
    "\n",
    "region_mode = customers['region'].mode()[0]\n",
    "customers['region'] = customers['region'].fillna(region_mode)"
   ]
  },
  {
   "cell_type": "code",
   "execution_count": 47,
   "id": "ecfc1e3b",
   "metadata": {},
   "outputs": [
    {
     "name": "stdout",
     "output_type": "stream",
     "text": [
      "고객 데이터의 성별의 결측치는 M로 나이대는 10s 지역은 Gwangju 대체\n",
      "결측치 처리 후 결측치 개수 : 0\n"
     ]
    }
   ],
   "source": [
    "print(f\"고객 데이터의 성별의 결측치는 {gender_mode}로 나이대는 {age_group_mode} 지역은 {region_mode} 대체\")\n",
    "print(f\"결측치 처리 후 결측치 개수 : {customers.isna().sum().sum()}\")"
   ]
  },
  {
   "cell_type": "code",
   "execution_count": 51,
   "id": "88c2b7ea",
   "metadata": {},
   "outputs": [],
   "source": [
    "# 상품 데이터의 결측치 처리\n",
    "# 카테고리와 브랜드 둘다 최빈값으로 대체\n",
    "cate_mode = products['category'].mode()[0]\n",
    "products['category'] = products['category'].fillna(cate_mode)\n",
    "\n",
    "brand_mode = products['brand'].mode()[0]\n",
    "products['brand'] = products['brand'].fillna(brand_mode)"
   ]
  },
  {
   "cell_type": "code",
   "execution_count": 61,
   "id": "2d4602eb",
   "metadata": {},
   "outputs": [],
   "source": [
    "# 주문 데이터 결측치 처리\n",
    "mean_price = orders['unit_price'].mean().round(0)\n",
    "orders['unit_price'] = orders['unit_price'].fillna(mean_price)\n",
    "\n",
    "orders_region_mode = orders['region'].mode()[0]\n",
    "orders['region'] = orders['region'].fillna(orders_region_mode)"
   ]
  },
  {
   "cell_type": "code",
   "execution_count": null,
   "id": "6028c687",
   "metadata": {},
   "outputs": [],
   "source": [
    "# 결측치 처리가 완료된 후 처리 결과\n",
    "# 처리전 결측치 개수 -> 처리 후 개수\n",
    "# 각각 어떤 값으로 대체해준건지"
   ]
  },
  {
   "cell_type": "code",
   "execution_count": 64,
   "id": "bee336d8",
   "metadata": {},
   "outputs": [
    {
     "data": {
      "text/html": [
       "<div>\n",
       "<style scoped>\n",
       "    .dataframe tbody tr th:only-of-type {\n",
       "        vertical-align: middle;\n",
       "    }\n",
       "\n",
       "    .dataframe tbody tr th {\n",
       "        vertical-align: top;\n",
       "    }\n",
       "\n",
       "    .dataframe thead th {\n",
       "        text-align: right;\n",
       "    }\n",
       "</style>\n",
       "<table border=\"1\" class=\"dataframe\">\n",
       "  <thead>\n",
       "    <tr style=\"text-align: right;\">\n",
       "      <th></th>\n",
       "      <th>order_id</th>\n",
       "      <th>user_id</th>\n",
       "      <th>order_date</th>\n",
       "      <th>product_id</th>\n",
       "      <th>qty</th>\n",
       "      <th>unit_price</th>\n",
       "      <th>region</th>\n",
       "      <th>total</th>\n",
       "      <th>order_month</th>\n",
       "    </tr>\n",
       "  </thead>\n",
       "  <tbody>\n",
       "    <tr>\n",
       "      <th>0</th>\n",
       "      <td>o000001</td>\n",
       "      <td>u066</td>\n",
       "      <td>2024-02-02</td>\n",
       "      <td>p0010</td>\n",
       "      <td>4</td>\n",
       "      <td>9000.0</td>\n",
       "      <td>Incheon</td>\n",
       "      <td>36000.0</td>\n",
       "      <td>2024-02</td>\n",
       "    </tr>\n",
       "    <tr>\n",
       "      <th>1</th>\n",
       "      <td>o000002</td>\n",
       "      <td>u072</td>\n",
       "      <td>2024-04-10</td>\n",
       "      <td>p0013</td>\n",
       "      <td>4</td>\n",
       "      <td>9000.0</td>\n",
       "      <td>Incheon</td>\n",
       "      <td>36000.0</td>\n",
       "      <td>2024-04</td>\n",
       "    </tr>\n",
       "    <tr>\n",
       "      <th>2</th>\n",
       "      <td>o000003</td>\n",
       "      <td>u112</td>\n",
       "      <td>2024-06-21</td>\n",
       "      <td>p0016</td>\n",
       "      <td>4</td>\n",
       "      <td>20000.0</td>\n",
       "      <td>Incheon</td>\n",
       "      <td>80000.0</td>\n",
       "      <td>2024-06</td>\n",
       "    </tr>\n",
       "    <tr>\n",
       "      <th>3</th>\n",
       "      <td>o000004</td>\n",
       "      <td>u130</td>\n",
       "      <td>2024-06-19</td>\n",
       "      <td>p0008</td>\n",
       "      <td>4</td>\n",
       "      <td>20000.0</td>\n",
       "      <td>Seoul</td>\n",
       "      <td>80000.0</td>\n",
       "      <td>2024-06</td>\n",
       "    </tr>\n",
       "    <tr>\n",
       "      <th>4</th>\n",
       "      <td>o000005</td>\n",
       "      <td>u079</td>\n",
       "      <td>2024-03-06</td>\n",
       "      <td>p0026</td>\n",
       "      <td>1</td>\n",
       "      <td>30000.0</td>\n",
       "      <td>Incheon</td>\n",
       "      <td>30000.0</td>\n",
       "      <td>2024-03</td>\n",
       "    </tr>\n",
       "  </tbody>\n",
       "</table>\n",
       "</div>"
      ],
      "text/plain": [
       "  order_id user_id order_date product_id  qty  unit_price   region    total  \\\n",
       "0  o000001    u066 2024-02-02      p0010    4      9000.0  Incheon  36000.0   \n",
       "1  o000002    u072 2024-04-10      p0013    4      9000.0  Incheon  36000.0   \n",
       "2  o000003    u112 2024-06-21      p0016    4     20000.0  Incheon  80000.0   \n",
       "3  o000004    u130 2024-06-19      p0008    4     20000.0    Seoul  80000.0   \n",
       "4  o000005    u079 2024-03-06      p0026    1     30000.0  Incheon  30000.0   \n",
       "\n",
       "  order_month  \n",
       "0     2024-02  \n",
       "1     2024-04  \n",
       "2     2024-06  \n",
       "3     2024-06  \n",
       "4     2024-03  "
      ]
     },
     "execution_count": 64,
     "metadata": {},
     "output_type": "execute_result"
    }
   ],
   "source": [
    "# 매출액이 필요하므로 수량*단가를 계산한 파생변수를 추가\n",
    "# 월별 통계를 내야하므로 월데이터만 가지고있는 파생변수를 추가\n",
    "orders = orders.assign(\n",
    "  total = orders['qty'] * orders['unit_price'],\n",
    "  order_month = orders['order_date'].dt.to_period('M').astype(str)\n",
    ")\n",
    "\n",
    "orders.head()"
   ]
  },
  {
   "cell_type": "code",
   "execution_count": 66,
   "id": "80e85a83",
   "metadata": {},
   "outputs": [
    {
     "name": "stdout",
     "output_type": "stream",
     "text": [
      "최소 주문금액 : 5000.0\n",
      "최대 주문금액 : 150000.0\n",
      "평균 주문금액 : 45077.1736\n",
      "총 매출액 : 112692934.0\n",
      "기간 : 2024-01 ~ 2024-06\n"
     ]
    }
   ],
   "source": [
    "print(f\"최소 주문금액 : {orders['total'].min()}\")\n",
    "print(f\"최대 주문금액 : {orders['total'].max()}\")\n",
    "print(f\"평균 주문금액 : {orders['total'].mean()}\")\n",
    "print(f\"총 매출액 : {orders['total'].sum()}\")\n",
    "print(f\"기간 : {orders['order_month'].min()} ~ {orders['order_month'].max()}\")"
   ]
  },
  {
   "cell_type": "code",
   "execution_count": 78,
   "id": "af56b7fc",
   "metadata": {},
   "outputs": [
    {
     "data": {
      "text/html": [
       "<div>\n",
       "<style scoped>\n",
       "    .dataframe tbody tr th:only-of-type {\n",
       "        vertical-align: middle;\n",
       "    }\n",
       "\n",
       "    .dataframe tbody tr th {\n",
       "        vertical-align: top;\n",
       "    }\n",
       "\n",
       "    .dataframe thead th {\n",
       "        text-align: right;\n",
       "    }\n",
       "</style>\n",
       "<table border=\"1\" class=\"dataframe\">\n",
       "  <thead>\n",
       "    <tr style=\"text-align: right;\">\n",
       "      <th></th>\n",
       "      <th>order_id</th>\n",
       "      <th>user_id</th>\n",
       "      <th>order_date</th>\n",
       "      <th>product_id</th>\n",
       "      <th>qty</th>\n",
       "      <th>unit_price</th>\n",
       "      <th>region</th>\n",
       "      <th>total</th>\n",
       "      <th>order_month</th>\n",
       "      <th>region_cust</th>\n",
       "      <th>category</th>\n",
       "      <th>brand</th>\n",
       "    </tr>\n",
       "  </thead>\n",
       "  <tbody>\n",
       "    <tr>\n",
       "      <th>0</th>\n",
       "      <td>o000001</td>\n",
       "      <td>u066</td>\n",
       "      <td>2024-02-02</td>\n",
       "      <td>p0010</td>\n",
       "      <td>4</td>\n",
       "      <td>9000.0</td>\n",
       "      <td>Incheon</td>\n",
       "      <td>36000.0</td>\n",
       "      <td>2024-02</td>\n",
       "      <td>Seoul</td>\n",
       "      <td>fashion</td>\n",
       "      <td>Duro</td>\n",
       "    </tr>\n",
       "    <tr>\n",
       "      <th>1</th>\n",
       "      <td>o000002</td>\n",
       "      <td>u072</td>\n",
       "      <td>2024-04-10</td>\n",
       "      <td>p0013</td>\n",
       "      <td>4</td>\n",
       "      <td>9000.0</td>\n",
       "      <td>Incheon</td>\n",
       "      <td>36000.0</td>\n",
       "      <td>2024-04</td>\n",
       "      <td>Seoul</td>\n",
       "      <td>digital</td>\n",
       "      <td>Eon</td>\n",
       "    </tr>\n",
       "    <tr>\n",
       "      <th>2</th>\n",
       "      <td>o000003</td>\n",
       "      <td>u112</td>\n",
       "      <td>2024-06-21</td>\n",
       "      <td>p0016</td>\n",
       "      <td>4</td>\n",
       "      <td>20000.0</td>\n",
       "      <td>Incheon</td>\n",
       "      <td>80000.0</td>\n",
       "      <td>2024-06</td>\n",
       "      <td>Seoul</td>\n",
       "      <td>digital</td>\n",
       "      <td>Bando</td>\n",
       "    </tr>\n",
       "    <tr>\n",
       "      <th>3</th>\n",
       "      <td>o000004</td>\n",
       "      <td>u130</td>\n",
       "      <td>2024-06-19</td>\n",
       "      <td>p0008</td>\n",
       "      <td>4</td>\n",
       "      <td>20000.0</td>\n",
       "      <td>Seoul</td>\n",
       "      <td>80000.0</td>\n",
       "      <td>2024-06</td>\n",
       "      <td>Seoul</td>\n",
       "      <td>beauty</td>\n",
       "      <td>Ciel</td>\n",
       "    </tr>\n",
       "    <tr>\n",
       "      <th>4</th>\n",
       "      <td>o000005</td>\n",
       "      <td>u079</td>\n",
       "      <td>2024-03-06</td>\n",
       "      <td>p0026</td>\n",
       "      <td>1</td>\n",
       "      <td>30000.0</td>\n",
       "      <td>Incheon</td>\n",
       "      <td>30000.0</td>\n",
       "      <td>2024-03</td>\n",
       "      <td>Gwangju</td>\n",
       "      <td>tool</td>\n",
       "      <td>Ciel</td>\n",
       "    </tr>\n",
       "  </tbody>\n",
       "</table>\n",
       "</div>"
      ],
      "text/plain": [
       "  order_id user_id order_date product_id  qty  unit_price   region    total  \\\n",
       "0  o000001    u066 2024-02-02      p0010    4      9000.0  Incheon  36000.0   \n",
       "1  o000002    u072 2024-04-10      p0013    4      9000.0  Incheon  36000.0   \n",
       "2  o000003    u112 2024-06-21      p0016    4     20000.0  Incheon  80000.0   \n",
       "3  o000004    u130 2024-06-19      p0008    4     20000.0    Seoul  80000.0   \n",
       "4  o000005    u079 2024-03-06      p0026    1     30000.0  Incheon  30000.0   \n",
       "\n",
       "  order_month region_cust category  brand  \n",
       "0     2024-02       Seoul  fashion   Duro  \n",
       "1     2024-04       Seoul  digital    Eon  \n",
       "2     2024-06       Seoul  digital  Bando  \n",
       "3     2024-06       Seoul   beauty   Ciel  \n",
       "4     2024-03     Gwangju     tool   Ciel  "
      ]
     },
     "execution_count": 78,
     "metadata": {},
     "output_type": "execute_result"
    }
   ],
   "source": [
    "# 데이터 병합 : 주문 + 고객 + 상품 데이터\n",
    "df = orders.merge(\n",
    "  customers[['user_id', 'region']], on='user_id', suffixes=('', '_cust')\n",
    ")\n",
    "\n",
    "df = df.merge(products, on='product_id')\n",
    "\n",
    "df.head()"
   ]
  },
  {
   "cell_type": "code",
   "execution_count": 79,
   "id": "fddf1ffd",
   "metadata": {},
   "outputs": [
    {
     "name": "stdout",
     "output_type": "stream",
     "text": [
      "== 병합 후 데이터 확인 ==\n",
      "행 개수 : 2500\n",
      "열 개수 : 12\n",
      "목록 : Index(['order_id', 'user_id', 'order_date', 'product_id', 'qty', 'unit_price',\n",
      "       'region', 'total', 'order_month', 'region_cust', 'category', 'brand'],\n",
      "      dtype='object')\n",
      "결측치 수 : 0\n"
     ]
    }
   ],
   "source": [
    "print(\"== 병합 후 데이터 확인 ==\")\n",
    "print(f\"행 개수 : {len(df)}\")\n",
    "print(f\"열 개수 : {len(df.columns)}\")\n",
    "print(f\"목록 : {df.columns}\")\n",
    "print(f\"결측치 수 : {df.isna().sum().sum()}\")"
   ]
  },
  {
   "cell_type": "code",
   "execution_count": 83,
   "id": "77e4592f",
   "metadata": {},
   "outputs": [
    {
     "name": "stdout",
     "output_type": "stream",
     "text": [
      "=== 월별 매출 분석 ===\n",
      "매출 분석 기간 : 2024-01 ~ 2024-06\n",
      "월 평균 매출 : 18782155.666666668\n",
      "최고 매출 월 : 2024-03 / 19372000.0\n",
      "최저 매출 월 : 2024-05 / 17893934.0\n"
     ]
    }
   ],
   "source": [
    "# 월별 매출\n",
    "monthly = df.groupby('order_month', as_index=False)['total'].sum()\n",
    "\n",
    "print(f\"=== 월별 매출 분석 ===\")\n",
    "print(f\"매출 분석 기간 : {monthly['order_month'].min()} ~ {monthly['order_month'].max()}\")\n",
    "print(f\"월 평균 매출 : {monthly['total'].mean()}\")\n",
    "print(f\"최고 매출 월 : {monthly.loc[ monthly['total'].idxmax(), 'order_month']} / {monthly['total'].max()}\")\n",
    "print(f\"최저 매출 월 : {monthly.loc[ monthly['total'].idxmin(), 'order_month']} / {monthly['total'].min()}\")"
   ]
  },
  {
   "cell_type": "code",
   "execution_count": 90,
   "id": "4b83e18d",
   "metadata": {},
   "outputs": [
    {
     "data": {
      "text/html": [
       "<div>\n",
       "<style scoped>\n",
       "    .dataframe tbody tr th:only-of-type {\n",
       "        vertical-align: middle;\n",
       "    }\n",
       "\n",
       "    .dataframe tbody tr th {\n",
       "        vertical-align: top;\n",
       "    }\n",
       "\n",
       "    .dataframe thead th {\n",
       "        text-align: right;\n",
       "    }\n",
       "</style>\n",
       "<table border=\"1\" class=\"dataframe\">\n",
       "  <thead>\n",
       "    <tr style=\"text-align: right;\">\n",
       "      <th></th>\n",
       "      <th>order_month</th>\n",
       "      <th>total</th>\n",
       "      <th>total_grow</th>\n",
       "    </tr>\n",
       "  </thead>\n",
       "  <tbody>\n",
       "    <tr>\n",
       "      <th>0</th>\n",
       "      <td>2024-01</td>\n",
       "      <td>18823000.0</td>\n",
       "      <td>NaN</td>\n",
       "    </tr>\n",
       "    <tr>\n",
       "      <th>1</th>\n",
       "      <td>2024-02</td>\n",
       "      <td>18782000.0</td>\n",
       "      <td>-0.217819</td>\n",
       "    </tr>\n",
       "    <tr>\n",
       "      <th>2</th>\n",
       "      <td>2024-03</td>\n",
       "      <td>19372000.0</td>\n",
       "      <td>3.141306</td>\n",
       "    </tr>\n",
       "    <tr>\n",
       "      <th>3</th>\n",
       "      <td>2024-04</td>\n",
       "      <td>18668000.0</td>\n",
       "      <td>-3.634111</td>\n",
       "    </tr>\n",
       "    <tr>\n",
       "      <th>4</th>\n",
       "      <td>2024-05</td>\n",
       "      <td>17893934.0</td>\n",
       "      <td>-4.146486</td>\n",
       "    </tr>\n",
       "    <tr>\n",
       "      <th>5</th>\n",
       "      <td>2024-06</td>\n",
       "      <td>19154000.0</td>\n",
       "      <td>7.041861</td>\n",
       "    </tr>\n",
       "  </tbody>\n",
       "</table>\n",
       "</div>"
      ],
      "text/plain": [
       "  order_month       total  total_grow\n",
       "0     2024-01  18823000.0         NaN\n",
       "1     2024-02  18782000.0   -0.217819\n",
       "2     2024-03  19372000.0    3.141306\n",
       "3     2024-04  18668000.0   -3.634111\n",
       "4     2024-05  17893934.0   -4.146486\n",
       "5     2024-06  19154000.0    7.041861"
      ]
     },
     "execution_count": 90,
     "metadata": {},
     "output_type": "execute_result"
    }
   ],
   "source": [
    "monthly['total_grow'] = monthly['total'].pct_change() * 100\n",
    "monthly"
   ]
  },
  {
   "cell_type": "code",
   "execution_count": 91,
   "id": "c86eeca7",
   "metadata": {},
   "outputs": [
    {
     "data": {
      "text/html": [
       "<div>\n",
       "<style scoped>\n",
       "    .dataframe tbody tr th:only-of-type {\n",
       "        vertical-align: middle;\n",
       "    }\n",
       "\n",
       "    .dataframe tbody tr th {\n",
       "        vertical-align: top;\n",
       "    }\n",
       "\n",
       "    .dataframe thead th {\n",
       "        text-align: right;\n",
       "    }\n",
       "</style>\n",
       "<table border=\"1\" class=\"dataframe\">\n",
       "  <thead>\n",
       "    <tr style=\"text-align: right;\">\n",
       "      <th>category</th>\n",
       "      <th>beauty</th>\n",
       "      <th>digital</th>\n",
       "      <th>fashion</th>\n",
       "      <th>food</th>\n",
       "      <th>tool</th>\n",
       "    </tr>\n",
       "    <tr>\n",
       "      <th>region</th>\n",
       "      <th></th>\n",
       "      <th></th>\n",
       "      <th></th>\n",
       "      <th></th>\n",
       "      <th></th>\n",
       "    </tr>\n",
       "  </thead>\n",
       "  <tbody>\n",
       "    <tr>\n",
       "      <th>Busan</th>\n",
       "      <td>5179000.0</td>\n",
       "      <td>6418000.0</td>\n",
       "      <td>4485000.0</td>\n",
       "      <td>3231000.0</td>\n",
       "      <td>3897000.0</td>\n",
       "    </tr>\n",
       "    <tr>\n",
       "      <th>Daegu</th>\n",
       "      <td>5439000.0</td>\n",
       "      <td>5958000.0</td>\n",
       "      <td>3176000.0</td>\n",
       "      <td>3073000.0</td>\n",
       "      <td>4113000.0</td>\n",
       "    </tr>\n",
       "    <tr>\n",
       "      <th>Gwangju</th>\n",
       "      <td>4904000.0</td>\n",
       "      <td>5321000.0</td>\n",
       "      <td>3809000.0</td>\n",
       "      <td>3221000.0</td>\n",
       "      <td>4680000.0</td>\n",
       "    </tr>\n",
       "    <tr>\n",
       "      <th>Incheon</th>\n",
       "      <td>5759000.0</td>\n",
       "      <td>6932000.0</td>\n",
       "      <td>4064000.0</td>\n",
       "      <td>2602000.0</td>\n",
       "      <td>4356000.0</td>\n",
       "    </tr>\n",
       "    <tr>\n",
       "      <th>Seoul</th>\n",
       "      <td>4913000.0</td>\n",
       "      <td>5211934.0</td>\n",
       "      <td>3506000.0</td>\n",
       "      <td>3065000.0</td>\n",
       "      <td>5380000.0</td>\n",
       "    </tr>\n",
       "  </tbody>\n",
       "</table>\n",
       "</div>"
      ],
      "text/plain": [
       "category     beauty    digital    fashion       food       tool\n",
       "region                                                         \n",
       "Busan     5179000.0  6418000.0  4485000.0  3231000.0  3897000.0\n",
       "Daegu     5439000.0  5958000.0  3176000.0  3073000.0  4113000.0\n",
       "Gwangju   4904000.0  5321000.0  3809000.0  3221000.0  4680000.0\n",
       "Incheon   5759000.0  6932000.0  4064000.0  2602000.0  4356000.0\n",
       "Seoul     4913000.0  5211934.0  3506000.0  3065000.0  5380000.0"
      ]
     },
     "execution_count": 91,
     "metadata": {},
     "output_type": "execute_result"
    }
   ],
   "source": [
    "# 지역, 카테고리에 해당하는 피벗 테이블\n",
    "# 지역별 카테고리별 매출액의 계산결과를 하나의 표로 만들어줌\n",
    "px = pd.pivot_table(\n",
    "  df, index='region', columns='category', values='total', aggfunc='sum'\n",
    ")\n",
    "px"
   ]
  },
  {
   "cell_type": "code",
   "execution_count": 100,
   "id": "39f2a00a",
   "metadata": {},
   "outputs": [
    {
     "name": "stdout",
     "output_type": "stream",
     "text": [
      "=== 지역별 매출액 순위 ===\n",
      "1. Incheon : 23713000.0\n",
      "2. Busan : 23210000.0\n",
      "3. Seoul : 22075934.0\n",
      "4. Gwangju : 21935000.0\n",
      "5. Daegu : 21759000.0\n"
     ]
    }
   ],
   "source": [
    "# 지역별 매출 순위 출력\n",
    "region_total = px.sum(axis=1).sort_values(ascending=False)\n",
    "print(\"=== 지역별 매출액 순위 ===\")\n",
    "for i, (region, total) in enumerate(region_total.items()):\n",
    "  print(f\"{i+1}. {region} : {total}\")"
   ]
  },
  {
   "cell_type": "code",
   "execution_count": 101,
   "id": "2bb99b03",
   "metadata": {},
   "outputs": [
    {
     "name": "stdout",
     "output_type": "stream",
     "text": [
      "=== 카테고리 매출액 순위 ===\n",
      "1. digital : 29840934.0\n",
      "2. beauty : 26194000.0\n",
      "3. tool : 22426000.0\n",
      "4. fashion : 19040000.0\n",
      "5. food : 15192000.0\n"
     ]
    }
   ],
   "source": [
    "# 카테고리 매출 순위 출력\n",
    "category_total = px.sum().sort_values(ascending=False)\n",
    "print(\"=== 카테고리 매출액 순위 ===\")\n",
    "for i, (category, total) in enumerate(category_total.items()):\n",
    "  print(f\"{i+1}. {category} : {total}\")"
   ]
  },
  {
   "cell_type": "code",
   "execution_count": 105,
   "id": "68149e05",
   "metadata": {},
   "outputs": [
    {
     "name": "stdout",
     "output_type": "stream",
     "text": [
      "=== 최고 매출액 ===\n",
      "지역 : Incheon, 카테고리 : digital, 매출액 : 6932000.0\n"
     ]
    }
   ],
   "source": [
    "max_region, max_category = px.stack().idxmax()\n",
    "max_total = px.loc[max_region, max_category]\n",
    "\n",
    "print(\"=== 최고 매출액 ===\")\n",
    "print(f\"지역 : {max_region}, 카테고리 : {max_category}, 매출액 : {max_total}\")\n"
   ]
  },
  {
   "cell_type": "code",
   "execution_count": 110,
   "id": "df5e6dd9",
   "metadata": {},
   "outputs": [
    {
     "data": {
      "text/html": [
       "<div>\n",
       "<style scoped>\n",
       "    .dataframe tbody tr th:only-of-type {\n",
       "        vertical-align: middle;\n",
       "    }\n",
       "\n",
       "    .dataframe tbody tr th {\n",
       "        vertical-align: top;\n",
       "    }\n",
       "\n",
       "    .dataframe thead th {\n",
       "        text-align: right;\n",
       "    }\n",
       "</style>\n",
       "<table border=\"1\" class=\"dataframe\">\n",
       "  <thead>\n",
       "    <tr style=\"text-align: right;\">\n",
       "      <th></th>\n",
       "      <th>product_id</th>\n",
       "      <th>brand</th>\n",
       "      <th>category</th>\n",
       "      <th>total</th>\n",
       "    </tr>\n",
       "  </thead>\n",
       "  <tbody>\n",
       "    <tr>\n",
       "      <th>5</th>\n",
       "      <td>p0006</td>\n",
       "      <td>Eon</td>\n",
       "      <td>beauty</td>\n",
       "      <td>2687000.0</td>\n",
       "    </tr>\n",
       "    <tr>\n",
       "      <th>45</th>\n",
       "      <td>p0046</td>\n",
       "      <td>Aster</td>\n",
       "      <td>tool</td>\n",
       "      <td>2101000.0</td>\n",
       "    </tr>\n",
       "    <tr>\n",
       "      <th>38</th>\n",
       "      <td>p0039</td>\n",
       "      <td>Bando</td>\n",
       "      <td>digital</td>\n",
       "      <td>2025000.0</td>\n",
       "    </tr>\n",
       "    <tr>\n",
       "      <th>48</th>\n",
       "      <td>p0049</td>\n",
       "      <td>Ciel</td>\n",
       "      <td>fashion</td>\n",
       "      <td>1917000.0</td>\n",
       "    </tr>\n",
       "    <tr>\n",
       "      <th>64</th>\n",
       "      <td>p0065</td>\n",
       "      <td>Duro</td>\n",
       "      <td>beauty</td>\n",
       "      <td>1912000.0</td>\n",
       "    </tr>\n",
       "    <tr>\n",
       "      <th>51</th>\n",
       "      <td>p0052</td>\n",
       "      <td>Ciel</td>\n",
       "      <td>digital</td>\n",
       "      <td>1878000.0</td>\n",
       "    </tr>\n",
       "    <tr>\n",
       "      <th>43</th>\n",
       "      <td>p0044</td>\n",
       "      <td>Aster</td>\n",
       "      <td>beauty</td>\n",
       "      <td>1837000.0</td>\n",
       "    </tr>\n",
       "    <tr>\n",
       "      <th>23</th>\n",
       "      <td>p0024</td>\n",
       "      <td>Aster</td>\n",
       "      <td>beauty</td>\n",
       "      <td>1829000.0</td>\n",
       "    </tr>\n",
       "    <tr>\n",
       "      <th>21</th>\n",
       "      <td>p0022</td>\n",
       "      <td>Duro</td>\n",
       "      <td>beauty</td>\n",
       "      <td>1817000.0</td>\n",
       "    </tr>\n",
       "    <tr>\n",
       "      <th>35</th>\n",
       "      <td>p0036</td>\n",
       "      <td>Duro</td>\n",
       "      <td>digital</td>\n",
       "      <td>1812000.0</td>\n",
       "    </tr>\n",
       "  </tbody>\n",
       "</table>\n",
       "</div>"
      ],
      "text/plain": [
       "   product_id  brand category      total\n",
       "5       p0006    Eon   beauty  2687000.0\n",
       "45      p0046  Aster     tool  2101000.0\n",
       "38      p0039  Bando  digital  2025000.0\n",
       "48      p0049   Ciel  fashion  1917000.0\n",
       "64      p0065   Duro   beauty  1912000.0\n",
       "51      p0052   Ciel  digital  1878000.0\n",
       "43      p0044  Aster   beauty  1837000.0\n",
       "23      p0024  Aster   beauty  1829000.0\n",
       "21      p0022   Duro   beauty  1817000.0\n",
       "35      p0036   Duro  digital  1812000.0"
      ]
     },
     "execution_count": 110,
     "metadata": {},
     "output_type": "execute_result"
    }
   ],
   "source": [
    "# 매출액이 높은 상품들\n",
    "top = df.groupby( ['product_id', 'brand', 'category'], as_index=False )['total'].sum()\\\n",
    "        .sort_values('total', ascending=False).head(10)\n",
    "top"
   ]
  },
  {
   "cell_type": "code",
   "execution_count": 114,
   "id": "666e6a69",
   "metadata": {},
   "outputs": [
    {
     "name": "stdout",
     "output_type": "stream",
     "text": [
      "== 상위 10개 상품 == \n",
      "top-10의 총 매출 :  19,815,000원\n",
      "전체 매출 대비 top-10 비중 : 17.58%\n"
     ]
    }
   ],
   "source": [
    "print(\"== 상위 10개 상품 == \")\n",
    "print(f\"top-10의 총 매출 :  {top['total'].sum():,.0f}원\")\n",
    "print(f\"전체 매출 대비 top-10 비중 : {top['total'].sum() / df['total'].sum() * 100:.2f}%\")"
   ]
  },
  {
   "cell_type": "code",
   "execution_count": 117,
   "id": "fa6a28e0",
   "metadata": {},
   "outputs": [
    {
     "name": "stdout",
     "output_type": "stream",
     "text": [
      "== top-10 브랜드 분포 ==\n",
      "Aster : 3개\n",
      "Duro : 3개\n",
      "Ciel : 2개\n",
      "Eon : 1개\n",
      "Bando : 1개\n"
     ]
    }
   ],
   "source": [
    "print(\"== top-10 브랜드 분포 ==\")\n",
    "top_brand = top['brand'].value_counts()\n",
    "for brand, count in top_brand.items():\n",
    "  print(f\"{brand} : {count}개\")"
   ]
  },
  {
   "cell_type": "code",
   "execution_count": 118,
   "id": "7b30af02",
   "metadata": {},
   "outputs": [
    {
     "name": "stdout",
     "output_type": "stream",
     "text": [
      "== top-10 카테고리 분포 ==\n",
      "beauty : 5개\n",
      "digital : 3개\n",
      "tool : 1개\n",
      "fashion : 1개\n"
     ]
    }
   ],
   "source": [
    "print(\"== top-10 카테고리 분포 ==\")\n",
    "top_category = top['category'].value_counts()\n",
    "for category, count in top_category.items():\n",
    "  print(f\"{category} : {count}개\")"
   ]
  },
  {
   "cell_type": "code",
   "execution_count": 121,
   "id": "ba74ed65",
   "metadata": {},
   "outputs": [
    {
     "name": "stdout",
     "output_type": "stream",
     "text": [
      "1등 상품 매출액 : 2687000.0\n",
      "10등 상품 매출액 : 1812000.0\n"
     ]
    }
   ],
   "source": [
    "print(f\"1등 상품 매출액 : {top.iloc[0]['total']}\")\n",
    "print(f\"10등 상품 매출액 : {top.iloc[-1]['total']}\")"
   ]
  },
  {
   "cell_type": "code",
   "execution_count": null,
   "id": "8b59c25a",
   "metadata": {},
   "outputs": [],
   "source": []
  }
 ],
 "metadata": {
  "kernelspec": {
   "display_name": "venv",
   "language": "python",
   "name": "python3"
  },
  "language_info": {
   "codemirror_mode": {
    "name": "ipython",
    "version": 3
   },
   "file_extension": ".py",
   "mimetype": "text/x-python",
   "name": "python",
   "nbconvert_exporter": "python",
   "pygments_lexer": "ipython3",
   "version": "3.11.9"
  }
 },
 "nbformat": 4,
 "nbformat_minor": 5
}
